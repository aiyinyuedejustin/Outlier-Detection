{
 "cells": [
  {
   "cell_type": "code",
   "execution_count": 18,
   "id": "2792da00",
   "metadata": {},
   "outputs": [],
   "source": [
    "import  matplotlib.pyplot as plt\n",
    "import pandas as pd \n",
    "import seaborn as sns\n",
    "import warnings\n",
    "warnings.filterwarnings(\"ignore\")\n",
    "from pyod.models.hbos import HBOS\n",
    "from pyod.models.pca import PCA\n",
    "from time import time\n",
    "\n",
    "\n",
    "df_time = pd.read_csv(\"TimeData.csv\")\n",
    "df_precision = pd.read_csv(\"PrecisionData.csv\")\n",
    "df_recall = pd.read_csv(\"RecallData.csv\")"
   ]
  },
  {
   "cell_type": "code",
   "execution_count": 19,
   "id": "89822c49",
   "metadata": {},
   "outputs": [],
   "source": [
    "# standard imports and setup\n",
    "import pandas as pd\n",
    "import numpy as np\n",
    "import matplotlib.pyplot as plt\n",
    "%matplotlib inline\n",
    "import seaborn as sns\n",
    "from scipy import stats\n",
    "# model evaluation\n",
    "from sklearn.model_selection import train_test_split \n",
    "from sklearn.metrics import *\n",
    "# pipelines\n",
    " \n",
    "# data preparation\n",
    "from sklearn.preprocessing import *\n",
    "# from sklearn.decomposition import PCA\n",
    "from pyod.models.pca import PCA\n",
    "# from imblearn.datasets import make_imbalance\n",
    "# from imblearn.over_sampling import SMOTE\n",
    "# # machine learning\n",
    "# from sklearn.linear_model import *\n",
    "# from sklearn.neighbors import KNeighborsClassifier\n",
    "# from sklearn.svm import SVC, LinearSVC\n",
    "# from sklearn.naive_bayes import GaussianNB\n",
    "# from sklearn.ensemble import RandomForestClassifier, RandomForestRegressor\n",
    "# from sklearn.tree import DecisionTreeClassifier\n",
    "# from xgboost import XGBClassifier, XGBRegressor\n",
    "#------------------\n",
    "from __future__ import division\n",
    "from __future__ import print_function\n",
    "from pyod.models.abod import ABOD\n",
    "from pyod.models.cblof import CBLOF\n",
    "\n",
    "from pyod.models.feature_bagging import FeatureBagging\n",
    "from pyod.models.iforest import IForest\n",
    "from pyod.models.knn import KNN\n",
    "from pyod.models.lof import LOF\n",
    "from pyod.models.mcd import MCD\n",
    "from pyod.models.ocsvm import OCSVM\n",
    "from pyod.utils.data import generate_data\n",
    "from pyod.utils.data import evaluate_print\n",
    "from pyod.utils.example import visualize\n",
    "from sklearn.metrics import roc_curve, roc_auc_score\n",
    "from pyod.utils.utility import standardizer\n",
    "from pyod.utils.utility import precision_n_scores\n",
    "from sklearn.metrics import roc_auc_score\n",
    "from time import time\n",
    "from sklearn import metrics\n",
    "from sklearn.model_selection import train_test_split\n",
    "\n",
    "from sklearn.metrics import plot_precision_recall_curve"
   ]
  },
  {
   "cell_type": "code",
   "execution_count": 20,
   "id": "5a099d6b",
   "metadata": {
    "scrolled": true
   },
   "outputs": [
    {
     "name": "stdout",
     "output_type": "stream",
     "text": [
      "(16318, 35)\n"
     ]
    }
   ],
   "source": [
    " \n",
    "import pandas as pd\n",
    "dataset = pd.read_csv(r\"C:\\Users\\NaumanRafique\\Downloads\\nourasaeed721-attachments\\wustl.csv\",usecols=['SIntPkt','Pulse_Rate',\n",
    " 'dMaxPktSz','DstLoad', 'Trans','SrcLoad','sMinPktSz','DIntPktAct','DIntPkt','DstBytes','SpO2','DstGap','Loss','Label','DIA',\n",
    " 'TotPkts','sMaxPktSz','Load','Rate','pSrcLoss','SrcBytes','DstJitter','Temp','SYS','pDstLoss','Heart_rate','dMinPktSz', 'SrcJitter','SIntPktAct','Resp_Rate','TotBytes','ST','pLoss','Dur','SrcGap'])\n",
    "\n",
    "print(dataset.shape)\n",
    " "
   ]
  },
  {
   "cell_type": "code",
   "execution_count": 21,
   "id": "6d443504",
   "metadata": {},
   "outputs": [],
   "source": [
    "df_time.drop(\"Unnamed: 0\",axis=1,inplace=True)\n",
    "df_recall.drop(\"Unnamed: 0\",axis=1,inplace=True)\n",
    "df_precision.drop(\"Unnamed: 0\",axis=1,inplace=True)"
   ]
  },
  {
   "cell_type": "code",
   "execution_count": 22,
   "id": "99dc8c1c",
   "metadata": {},
   "outputs": [
    {
     "data": {
      "text/plain": [
       "Index(['Data Sample', 'Testing Size', 'ABOD', 'CBLOF', 'FB', 'HBOS', 'IForest',\n",
       "       'KNN', 'LOF', 'MCD', 'OCSVM', 'PCA'],\n",
       "      dtype='object')"
      ]
     },
     "execution_count": 22,
     "metadata": {},
     "output_type": "execute_result"
    }
   ],
   "source": [
    "df_time.columns"
   ]
  },
  {
   "cell_type": "code",
   "execution_count": 23,
   "id": "98e2918f",
   "metadata": {},
   "outputs": [],
   "source": [
    "df_final = df_time.merge(df_precision,on=['Data Sample',\"Testing Size\"],suffixes=['_time',\"_preicision\"]).merge(df_precision,on=['Data Sample',\"Testing Size\"],suffixes=['recall'])"
   ]
  },
  {
   "cell_type": "code",
   "execution_count": 24,
   "id": "6da4034e",
   "metadata": {},
   "outputs": [],
   "source": [
    "pd.reset_option(\"max_columns\")"
   ]
  },
  {
   "cell_type": "code",
   "execution_count": 25,
   "id": "d939038e",
   "metadata": {
    "scrolled": false
   },
   "outputs": [],
   "source": [
    "final_list = []\n",
    "from statistics import mode\n",
    "store_list = []\n",
    "l = []\n",
    "for row in range(15):\n",
    "    d1 = dict(df_time.loc[row][2:])\n",
    "    d2= dict(df_precision.loc[row][2:])\n",
    "    d3 = dict(df_recall.loc[row][2:])\n",
    "    \n",
    "#     calculating the lowest time execution\n",
    "    \n",
    "    time_key  = min(d1, key=d1.get)\n",
    "#     print(\"time\",time_key)\n",
    "    precision = max(d2, key=d2.get)\n",
    "#     print(\"precision\",precision)\n",
    "    recall = max(d3, key=d3.get)\n",
    "#     print(\"recall\",recall)\n",
    "    l.extend([time_key,precision,recall])\n",
    "#     print(\"list--->\",l)\n",
    "    try : \n",
    "        m = mode(l)\n",
    "#         print(\"mode--->\",m)\n",
    "        store_list.extend([m,d2[m],d3[m]])\n",
    "#         print(\"store list-->\",store_list)\n",
    "        \n",
    "    except:\n",
    "#         print(\"except\")\n",
    "        store_list.extend([time_key,d2[time_key],d3[time_key]])\n",
    "#         print(\"store list-->\",store_list)\n",
    "        \n",
    "    finally :\n",
    "        final_list.append(store_list)\n",
    "#         print(\"final--->\",final_list)\n",
    "        l=[]\n",
    "        store_list = []\n",
    "        \n",
    "        \n",
    "    "
   ]
  },
  {
   "cell_type": "code",
   "execution_count": 26,
   "id": "02826497",
   "metadata": {},
   "outputs": [
    {
     "data": {
      "text/plain": [
       "'IFOREST'"
      ]
     },
     "execution_count": 26,
     "metadata": {},
     "output_type": "execute_result"
    }
   ],
   "source": [
    "l=['IFOREST',\"OCSVM\",\"IFOREST\"]\n",
    "from statistics import mode\n",
    "mode(l)"
   ]
  },
  {
   "cell_type": "code",
   "execution_count": 27,
   "id": "987b4bb6",
   "metadata": {},
   "outputs": [
    {
     "data": {
      "text/plain": [
       "0.6485"
      ]
     },
     "execution_count": 27,
     "metadata": {},
     "output_type": "execute_result"
    }
   ],
   "source": [
    "final_list[0][2]"
   ]
  },
  {
   "cell_type": "code",
   "execution_count": 28,
   "id": "c39bb159",
   "metadata": {},
   "outputs": [],
   "source": [
    "dataset_sample = [1000,5000,10000,15000,16318]\n",
    "testing_size= [0.2,0.3,0.4]\n",
    "index= 0\n",
    "for sample in dataset_sample:\n",
    "    for size in testing_size:\n",
    "        final_list[index].append(sample)\n",
    "        final_list[index].append(size)\n",
    "#         print(index)\n",
    "        index+=1\n",
    "        \n",
    "        "
   ]
  },
  {
   "cell_type": "code",
   "execution_count": 29,
   "id": "5e832c06",
   "metadata": {},
   "outputs": [],
   "source": [
    "# classifier = {\n",
    "\n",
    "# # 'Angle-based Outlier Detector (ABOD)': ABOD(\n",
    "# #         contamination=outliers_fraction),\n",
    "# #         'Cluster-based Local Outlier Factor': CBLOF(\n",
    "# #             contamination=outliers_fraction, check_estimator=False,\n",
    "# #             random_state=random_state),\n",
    "# #         'Feature Bagging': FeatureBagging(contamination=outliers_fraction,\n",
    "# #                                           random_state=random_state),\n",
    "#         'HBOS': HBOS(\n",
    "#             contamination=outliers_fraction),\n",
    "#         'IForest': IForest(contamination=outliers_fraction,\n",
    "#                                     random_state=random_state),\n",
    "# #         'K Nearest Neighbors (KNN)': KNN(contamination=outliers_fraction),\n",
    "# #         'Local Outlier Factor (LOF)': LOF(\n",
    "# #             contamination=outliers_fraction),\n",
    "# #         'Minimum Covariance Determinant (MCD)': MCD(\n",
    "# #             contamination=outliers_fraction, random_state=random_state),\n",
    "#         'OCSVM': OCSVM(contamination=outliers_fraction)\n",
    "# }"
   ]
  },
  {
   "cell_type": "code",
   "execution_count": 30,
   "id": "5a27379d",
   "metadata": {},
   "outputs": [
    {
     "data": {
      "text/plain": [
       "[['PCA', 0.4231, 0.6485, 1000, 0.2],\n",
       " ['PCA', 0.4359, 0.6518, 1000, 0.3],\n",
       " ['PCA', 0.3774, 0.6124, 1000, 0.4],\n",
       " ['PCA', 0.4758, 0.6472, 5000, 0.2],\n",
       " ['PCA', 0.4773, 0.6554, 5000, 0.3],\n",
       " ['IForest', 0.5193, 0.6941, 5000, 0.4],\n",
       " ['PCA', 0.4882, 0.6617, 10000, 0.2],\n",
       " ['IForest', 0.4853, 0.7166, 10000, 0.3],\n",
       " ['HBOS', 0.3649, 0.7171, 10000, 0.4],\n",
       " ['IForest', 0.4872, 0.7182, 15000, 0.2],\n",
       " ['IForest', 0.4791, 0.7082, 15000, 0.3],\n",
       " ['PCA', 0.424, 0.6771, 15000, 0.4],\n",
       " ['HBOS', 0.1979, 0.5756, 16318, 0.2],\n",
       " ['PCA', 0.4626, 0.6738, 16318, 0.3],\n",
       " ['PCA', 0.4715, 0.6816, 16318, 0.4]]"
      ]
     },
     "execution_count": 30,
     "metadata": {},
     "output_type": "execute_result"
    }
   ],
   "source": [
    "final_list"
   ]
  },
  {
   "cell_type": "code",
   "execution_count": null,
   "id": "3b898015",
   "metadata": {},
   "outputs": [],
   "source": []
  },
  {
   "cell_type": "code",
   "execution_count": null,
   "id": "c51c8b2e",
   "metadata": {},
   "outputs": [],
   "source": []
  },
  {
   "cell_type": "code",
   "execution_count": 31,
   "id": "60d4f01e",
   "metadata": {
    "scrolled": true
   },
   "outputs": [
    {
     "data": {
      "image/png": "[encoded data removed]",
      "text/plain": [
       "<Figure size 640x480 with 1 Axes>"
      ]
     },
     "metadata": {},
     "output_type": "display_data"
    }
   ],
   "source": [
    " \n",
    "random_state = 42\n",
    "\n",
    "\n",
    "import numpy as np\n",
    "\n",
    "from sklearn.preprocessing import StandardScaler\n",
    "from sklearn.preprocessing import label_binarize\n",
    "sc = StandardScaler()\n",
    "\n",
    "import pandas as pd\n",
    " \n",
    "\n",
    "for sample in final_list[1:]:\n",
    "#         ['OCSVM', 0.3125, 0.591, 1000, 0.2],\n",
    "    dataset_sample = dataset.sample(sample[3])\n",
    "    \n",
    "    x = dataset_sample.iloc[:,:-1].values\n",
    "    y = dataset_sample.iloc[:,-1].values\n",
    "    y = y.astype(np.uint8)\n",
    "    n_classes = len(set(y))\n",
    "\n",
    "    y = label_binarize( y, classes=[*range(n_classes)])\n",
    "        \n",
    "#         ['OCSVM', 0.5143, 0.6906, 16318, 0.4]\n",
    "    outliers_fraction = np.count_nonzero(y) / len(y)\n",
    "    outliers_percentage = round(outliers_fraction * 100, ndigits=4)\n",
    "        \n",
    "    classifierlist = {\n",
    "        'ABOD': ABOD(\n",
    "        contamination=outliers_fraction),\n",
    "        'CBLOF': CBLOF(\n",
    "            contamination=outliers_fraction, check_estimator=False,\n",
    "            random_state=random_state),\n",
    "        'FB': FeatureBagging(contamination=outliers_fraction,\n",
    "                                          random_state=random_state),\n",
    "        'HBOS': HBOS(\n",
    "            contamination=outliers_fraction),\n",
    "        'IForest': IForest(contamination=outliers_fraction,\n",
    "                                    random_state=random_state),\n",
    "        'KNN': KNN(contamination=outliers_fraction),\n",
    "        'LOF': LOF(\n",
    "            contamination=outliers_fraction),\n",
    "        'MCD': MCD(\n",
    "            contamination=outliers_fraction, random_state=random_state),\n",
    "        'OCSVM': OCSVM(contamination=outliers_fraction),\n",
    "        'PCA': PCA(\n",
    "            contamination=outliers_fraction, random_state=random_state)\n",
    "    }\n",
    "    \n",
    "    warnings.simplefilter(action='ignore', category=FutureWarning)\n",
    "    \n",
    "    \n",
    "    x_train, x_test, y_train, y_test= train_test_split(x,y, test_size = sample[4], random_state =random_state)\n",
    "    \n",
    "    clf = classifierlist[sample[0]]\n",
    "    x_train = sc.fit_transform(x_train)\n",
    "    x_test = sc.fit_transform(x_test)\n",
    "    clf.fit(x_train, y_train)\n",
    "    y_score = clf.predict_proba(x_test)\n",
    "    precision = dict()\n",
    "    recall = dict()\n",
    "    \n",
    "    for i in range(n_classes-1):\n",
    "        precision[i], recall[i], _ = precision_recall_curve(y_test[:, i],\n",
    "                                                        y_score[:, i])\n",
    "        plt.plot(recall[i], precision[i], lw=2, label=sample[0])\n",
    "    \n",
    "    plt.xlabel(\"recall\")\n",
    "    plt.ylabel(\"precision\")\n",
    "    plt.legend(loc=\"best\")\n",
    "    plt.title(\"precision vs. recall curve\")\n",
    "#     plt.show()\n",
    "\n",
    "    \n",
    "    \n",
    "    \n",
    "        \n",
    "        \n",
    "            \n",
    "\n",
    " \n",
    "\n",
    "        \n",
    "\n",
    "\n",
    "\n",
    "\n"
   ]
  }
 ],
 "metadata": {
  "kernelspec": {
   "display_name": "Python 3 (ipykernel)",
   "language": "python",
   "name": "python3"
  },
  "language_info": {
   "codemirror_mode": {
    "name": "ipython",
    "version": 3
   },
   "file_extension": ".py",
   "mimetype": "text/x-python",
   "name": "python",
   "nbconvert_exporter": "python",
   "pygments_lexer": "ipython3",
   "version": "3.10.7"
  }
 },
 "nbformat": 4,
 "nbformat_minor": 5
}
